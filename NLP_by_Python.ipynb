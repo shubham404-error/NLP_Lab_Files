{
  "nbformat": 4,
  "nbformat_minor": 0,
  "metadata": {
    "colab": {
      "provenance": []
    },
    "kernelspec": {
      "name": "python3",
      "display_name": "Python 3"
    },
    "language_info": {
      "name": "python"
    }
  },
  "cells": [
    {
      "cell_type": "markdown",
      "source": [
        "### **Assignment by Shubham Tejani**"
      ],
      "metadata": {
        "id": "JSRjzqST_BnN"
      }
    },
    {
      "cell_type": "markdown",
      "source": [
        "1. **Tokenization**"
      ],
      "metadata": {
        "id": "Dlb3T5Ae1NRK"
      }
    },
    {
      "cell_type": "code",
      "source": [
        "import nltk\n",
        "nltk.download('punkt')"
      ],
      "metadata": {
        "colab": {
          "base_uri": "https://localhost:8080/"
        },
        "id": "o2ffFrne7isH",
        "outputId": "cc342789-344c-452b-f7fc-1e033e7d7dc7"
      },
      "execution_count": null,
      "outputs": [
        {
          "output_type": "stream",
          "name": "stderr",
          "text": [
            "[nltk_data] Downloading package punkt to /root/nltk_data...\n",
            "[nltk_data]   Package punkt is already up-to-date!\n"
          ]
        },
        {
          "output_type": "execute_result",
          "data": {
            "text/plain": [
              "True"
            ]
          },
          "metadata": {},
          "execution_count": 40
        }
      ]
    },
    {
      "cell_type": "code",
      "execution_count": null,
      "metadata": {
        "colab": {
          "base_uri": "https://localhost:8080/"
        },
        "id": "Kg2_wj_Yz33J",
        "outputId": "7be3e0e9-92bb-4c8e-dcf5-181dc116ac56"
      },
      "outputs": [
        {
          "output_type": "stream",
          "name": "stdout",
          "text": [
            "['Hello', 'everyone', '.', 'You', 'are', 'studying', 'NLP', 'tokenization']\n"
          ]
        }
      ],
      "source": [
        "from nltk.tokenize import word_tokenize\n",
        "text = \"Hello everyone. You are studying NLP tokenization\"\n",
        "print(word_tokenize(text))\n"
      ]
    },
    {
      "cell_type": "markdown",
      "source": [
        "**Sentance Tokenization**"
      ],
      "metadata": {
        "id": "uu7s9Sdt2RVD"
      }
    },
    {
      "cell_type": "code",
      "source": [
        "import nltk\n",
        "from nltk.tokenize import sent_tokenize\n",
        "text = \"Let's see how it's working!\"\n",
        "print(sent_tokenize(text))\n"
      ],
      "metadata": {
        "colab": {
          "base_uri": "https://localhost:8080/"
        },
        "id": "4C5uW2Uu0CC4",
        "outputId": "d1d8420b-a292-4991-ba1b-a3518d194150"
      },
      "execution_count": null,
      "outputs": [
        {
          "output_type": "stream",
          "name": "stdout",
          "text": [
            "[\"Let's see how it's working!\"]\n"
          ]
        }
      ]
    },
    {
      "cell_type": "markdown",
      "source": [
        "**2. Remove Stopwords**"
      ],
      "metadata": {
        "id": "wU7U4qGg3zmO"
      }
    },
    {
      "cell_type": "code",
      "source": [
        "import nltk\n",
        "nltk.download('punkt')\n",
        "nltk.download('stopwords')\n",
        "from nltk.corpus import stopwords\n",
        "from nltk.tokenize import word_tokenize"
      ],
      "metadata": {
        "colab": {
          "base_uri": "https://localhost:8080/"
        },
        "id": "op8pLQio4FbA",
        "outputId": "4141684b-30e3-4d08-b985-6296d26e5529"
      },
      "execution_count": null,
      "outputs": [
        {
          "output_type": "stream",
          "name": "stderr",
          "text": [
            "[nltk_data] Downloading package punkt to /root/nltk_data...\n",
            "[nltk_data]   Package punkt is already up-to-date!\n",
            "[nltk_data] Downloading package stopwords to /root/nltk_data...\n",
            "[nltk_data]   Package stopwords is already up-to-date!\n"
          ]
        }
      ]
    },
    {
      "cell_type": "code",
      "source": [
        "text = \"Lets learn how to remove stop words with library in Python\"\n",
        "print(\"Text: \", text)\n",
        "# convert text to lowercase and split to a list of words\n",
        "tokens = word_tokenize(text. lower())\n",
        "\n",
        "print (\"Tokens:\", tokens)\n",
        "# Remove stop words\n",
        "english_stopwords = stopwords.words(\"english\")\n",
        "tokens_wo_stopwords = [t for t in tokens if t not in english_stopwords]\n",
        "print(\"Text without words:\" , \" \". join(tokens_wo_stopwords ))"
      ],
      "metadata": {
        "colab": {
          "base_uri": "https://localhost:8080/"
        },
        "id": "vmmXRuI-3rcG",
        "outputId": "4ed37813-231e-48d2-ecc2-319270ee2903"
      },
      "execution_count": null,
      "outputs": [
        {
          "output_type": "stream",
          "name": "stdout",
          "text": [
            "Text:  Lets learn how to remove stop words with library in Python\n",
            "Tokens: ['lets', 'learn', 'how', 'to', 'remove', 'stop', 'words', 'with', 'library', 'in', 'python']\n",
            "Text without words: lets learn remove stop words library python\n"
          ]
        }
      ]
    },
    {
      "cell_type": "markdown",
      "source": [
        "**3.Parts of speech**"
      ],
      "metadata": {
        "id": "y0ZWegpF24Uk"
      }
    },
    {
      "cell_type": "code",
      "source": [
        "nltk.download('averaged_perceptron_tagger')\n",
        "from nltk import pos_tag"
      ],
      "metadata": {
        "colab": {
          "base_uri": "https://localhost:8080/"
        },
        "id": "FAJOgkIS4M3U",
        "outputId": "bc7c141a-54c0-4784-c97a-7f779b5d1e8d"
      },
      "execution_count": null,
      "outputs": [
        {
          "output_type": "stream",
          "name": "stderr",
          "text": [
            "[nltk_data] Downloading package averaged_perceptron_tagger to\n",
            "[nltk_data]     /root/nltk_data...\n",
            "[nltk_data]   Package averaged_perceptron_tagger is already up-to-\n",
            "[nltk_data]       date!\n"
          ]
        }
      ]
    },
    {
      "cell_type": "code",
      "source": [
        "\n",
        "text =\"learn react.js from google and make awesome websites\".split()\n",
        "print(\"After Split:\",text)\n",
        "tokens_tag = pos_tag(text)\n",
        "print(\"After Token:\",tokens_tag)\n"
      ],
      "metadata": {
        "colab": {
          "base_uri": "https://localhost:8080/"
        },
        "id": "27KHaXqj0Grr",
        "outputId": "a8e23303-39c3-430e-f540-3d426f2913d4"
      },
      "execution_count": null,
      "outputs": [
        {
          "output_type": "stream",
          "name": "stdout",
          "text": [
            "After Split: ['learn', 'react.js', 'from', 'google', 'and', 'make', 'awesome', 'websites']\n",
            "After Token: [('learn', 'JJ'), ('react.js', 'NN'), ('from', 'IN'), ('google', 'NN'), ('and', 'CC'), ('make', 'VB'), ('awesome', 'JJ'), ('websites', 'NNS')]\n"
          ]
        }
      ]
    },
    {
      "cell_type": "markdown",
      "source": [
        "**4.Counts the Words**"
      ],
      "metadata": {
        "id": "JH_oIQ8Y3Dp6"
      }
    },
    {
      "cell_type": "code",
      "source": [
        "from collections import Counter\n",
        "import nltk\n",
        "text = \"Unstop is one of the best sites to explore competitions , quizzes and  Hacking and much more online.\"\n",
        "lower_case = text.lower()\n",
        "tokens = nltk.word_tokenize(lower_case)\n",
        "tags = nltk.pos_tag(tokens)\n",
        "counts = Counter( tag for word,  tag in tags)\n",
        "print(counts)\n"
      ],
      "metadata": {
        "colab": {
          "base_uri": "https://localhost:8080/"
        },
        "id": "L4ghzoQo0M_h",
        "outputId": "ffe1dc27-be70-4115-fa72-ddc01512d92a"
      },
      "execution_count": null,
      "outputs": [
        {
          "output_type": "stream",
          "name": "stdout",
          "text": [
            "Counter({'NNS': 3, 'NN': 2, 'CC': 2, 'VBZ': 1, 'CD': 1, 'IN': 1, 'DT': 1, 'JJS': 1, 'TO': 1, 'VB': 1, ',': 1, 'VBG': 1, 'RB': 1, 'JJR': 1, '.': 1})\n"
          ]
        }
      ]
    },
    {
      "cell_type": "markdown",
      "source": [
        "**5. Frequency Distribution**"
      ],
      "metadata": {
        "id": "chiVSvqy3jlu"
      }
    },
    {
      "cell_type": "code",
      "source": [
        "import nltk\n",
        "a = \"Youtube.com is the site where you can find the best tutorials for Software Testing     Tutorial, SAP Course for Beginners. Java Tutorial for Beginners and much more. Please visit the site Youtube.com and much more.\"\n",
        "words = nltk.tokenize.word_tokenize(a)\n",
        "fd = nltk.FreqDist(words)\n",
        "fd.plot()"
      ],
      "metadata": {
        "colab": {
          "base_uri": "https://localhost:8080/",
          "height": 350
        },
        "id": "EQc1j-bu0T9W",
        "outputId": "b85a58f5-927c-4b74-c1c6-5ec4ad79bc32"
      },
      "execution_count": null,
      "outputs": [
        {
          "output_type": "display_data",
          "data": {
            "text/plain": [
              "<Figure size 432x288 with 1 Axes>"
            ],
            "image/png": "[encoded data removed]"
          },
          "metadata": {
            "needs_background": "light"
          }
        },
        {
          "output_type": "execute_result",
          "data": {
            "text/plain": [
              "<matplotlib.axes._subplots.AxesSubplot at 0x7feed99f21d0>"
            ]
          },
          "metadata": {},
          "execution_count": 48
        }
      ]
    }
  ]
}