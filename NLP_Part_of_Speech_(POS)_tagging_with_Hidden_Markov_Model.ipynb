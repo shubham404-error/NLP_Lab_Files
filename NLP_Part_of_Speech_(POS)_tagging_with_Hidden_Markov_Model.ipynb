{
  "nbformat": 4,
  "nbformat_minor": 0,
  "metadata": {
    "colab": {
      "provenance": []
    },
    "kernelspec": {
      "name": "python3",
      "display_name": "Python 3"
    },
    "language_info": {
      "name": "python"
    }
  },
  "cells": [
    {
      "cell_type": "code",
      "execution_count": null,
      "metadata": {
        "colab": {
          "base_uri": "https://localhost:8080/"
        },
        "id": "A2kNeU0IIxp8",
        "outputId": "bef5ff08-ffc1-40ec-b9de-2d46bbb7881e"
      },
      "outputs": [
        {
          "output_type": "stream",
          "name": "stderr",
          "text": [
            "[nltk_data] Downloading package treebank to /root/nltk_data...\n",
            "[nltk_data]   Unzipping corpora/treebank.zip.\n",
            "[nltk_data] Downloading package universal_tagset to /root/nltk_data...\n",
            "[nltk_data]   Unzipping taggers/universal_tagset.zip.\n"
          ]
        },
        {
          "output_type": "stream",
          "name": "stdout",
          "text": [
            "[[('Pierre', 'NOUN'), ('Vinken', 'NOUN'), (',', '.'), ('61', 'NUM'), ('years', 'NOUN'), ('old', 'ADJ'), (',', '.'), ('will', 'VERB'), ('join', 'VERB'), ('the', 'DET'), ('board', 'NOUN'), ('as', 'ADP'), ('a', 'DET'), ('nonexecutive', 'ADJ'), ('director', 'NOUN'), ('Nov.', 'NOUN'), ('29', 'NUM'), ('.', '.')], [('Mr.', 'NOUN'), ('Vinken', 'NOUN'), ('is', 'VERB'), ('chairman', 'NOUN'), ('of', 'ADP'), ('Elsevier', 'NOUN'), ('N.V.', 'NOUN'), (',', '.'), ('the', 'DET'), ('Dutch', 'NOUN'), ('publishing', 'VERB'), ('group', 'NOUN'), ('.', '.')]]\n"
          ]
        }
      ],
      "source": [
        "# Importing libraries\n",
        "import nltk\n",
        "import numpy as np\n",
        "import pandas as pd\n",
        "import random\n",
        "from sklearn.model_selection import train_test_split\n",
        "import pprint, time\n",
        " \n",
        "#download the treebank corpus from nltk\n",
        "nltk.download('treebank')\n",
        " \n",
        "#download the universal tagset from nltk\n",
        "nltk.download('universal_tagset')\n",
        " \n",
        "# reading the Treebank tagged sentences\n",
        "nltk_data = list(nltk.corpus.treebank.tagged_sents(tagset='universal'))\n",
        " \n",
        "#print the first two sentences along with tags\n",
        "print(nltk_data[:2])"
      ]
    },
    {
      "cell_type": "code",
      "source": [
        "#print each word with its respective tag for first two sentences\n",
        "for sent in nltk_data[:2]:\n",
        "  for tuple in sent:\n",
        "    print(tuple)"
      ],
      "metadata": {
        "colab": {
          "base_uri": "https://localhost:8080/"
        },
        "id": "8zABOgQrJCEh",
        "outputId": "8f418fb4-fbd3-4554-fa25-bb404b083689"
      },
      "execution_count": null,
      "outputs": [
        {
          "output_type": "stream",
          "name": "stdout",
          "text": [
            "('Pierre', 'NOUN')\n",
            "('Vinken', 'NOUN')\n",
            "(',', '.')\n",
            "('61', 'NUM')\n",
            "('years', 'NOUN')\n",
            "('old', 'ADJ')\n",
            "(',', '.')\n",
            "('will', 'VERB')\n",
            "('join', 'VERB')\n",
            "('the', 'DET')\n",
            "('board', 'NOUN')\n",
            "('as', 'ADP')\n",
            "('a', 'DET')\n",
            "('nonexecutive', 'ADJ')\n",
            "('director', 'NOUN')\n",
            "('Nov.', 'NOUN')\n",
            "('29', 'NUM')\n",
            "('.', '.')\n",
            "('Mr.', 'NOUN')\n",
            "('Vinken', 'NOUN')\n",
            "('is', 'VERB')\n",
            "('chairman', 'NOUN')\n",
            "('of', 'ADP')\n",
            "('Elsevier', 'NOUN')\n",
            "('N.V.', 'NOUN')\n",
            "(',', '.')\n",
            "('the', 'DET')\n",
            "('Dutch', 'NOUN')\n",
            "('publishing', 'VERB')\n",
            "('group', 'NOUN')\n",
            "('.', '.')\n"
          ]
        }
      ]
    },
    {
      "cell_type": "code",
      "source": [
        "# split data into training and validation set in the ratio 80:20\n",
        "train_set,test_set =train_test_split(nltk_data,train_size=0.80,test_size=0.20,random_state = 101)"
      ],
      "metadata": {
        "id": "2RQFlZ4XJG_R"
      },
      "execution_count": null,
      "outputs": []
    },
    {
      "cell_type": "code",
      "source": [
        "# create list of train and test tagged words\n",
        "train_tagged_words = [ tup for sent in train_set for tup in sent ]\n",
        "test_tagged_words = [ tup for sent in test_set for tup in sent ]\n",
        "print(len(train_tagged_words))\n",
        "print(len(test_tagged_words))"
      ],
      "metadata": {
        "colab": {
          "base_uri": "https://localhost:8080/"
        },
        "id": "UNPSFr0TJId6",
        "outputId": "8acab787-f6c0-4983-8a67-9dfbf81b38fa"
      },
      "execution_count": null,
      "outputs": [
        {
          "output_type": "stream",
          "name": "stdout",
          "text": [
            "80310\n",
            "20366\n"
          ]
        }
      ]
    },
    {
      "cell_type": "code",
      "source": [
        "# check some of the tagged words.\n",
        "train_tagged_words[:5]"
      ],
      "metadata": {
        "colab": {
          "base_uri": "https://localhost:8080/"
        },
        "id": "qXpnZ5AvJPXj",
        "outputId": "6a4d40db-6a06-4d77-adc3-b4d4446af451"
      },
      "execution_count": null,
      "outputs": [
        {
          "output_type": "execute_result",
          "data": {
            "text/plain": [
              "[('Drink', 'NOUN'),\n",
              " ('Carrier', 'NOUN'),\n",
              " ('Competes', 'VERB'),\n",
              " ('With', 'ADP'),\n",
              " ('Cartons', 'NOUN')]"
            ]
          },
          "metadata": {},
          "execution_count": 5
        }
      ]
    },
    {
      "cell_type": "code",
      "source": [
        "#use set datatype to check how many unique tags are present in training data\n",
        "tags = {tag for word,tag in train_tagged_words}\n",
        "print(len(tags))\n",
        "print(tags)\n",
        " \n",
        "# check total words in vocabulary\n",
        "vocab = {word for word,tag in train_tagged_words}"
      ],
      "metadata": {
        "colab": {
          "base_uri": "https://localhost:8080/"
        },
        "id": "y5uPbQMVJT8S",
        "outputId": "8e37e669-3b3e-4c44-8578-e3792f310647"
      },
      "execution_count": null,
      "outputs": [
        {
          "output_type": "stream",
          "name": "stdout",
          "text": [
            "12\n",
            "{'NOUN', 'VERB', 'PRT', 'ADP', 'ADV', 'PRON', 'DET', 'ADJ', 'X', '.', 'NUM', 'CONJ'}\n"
          ]
        }
      ]
    },
    {
      "cell_type": "code",
      "source": [
        "# compute Emission Probability\n",
        "def word_given_tag(word, tag, train_bag = train_tagged_words):\n",
        "    tag_list = [pair for pair in train_bag if pair[1]==tag]\n",
        "    count_tag = len(tag_list)#total number of times the passed tag occurred in train_bag\n",
        "    w_given_tag_list = [pair[0] for pair in tag_list if pair[0]==word]\n",
        "#now calculate the total number of times the passed word occurred as the passed tag.\n",
        "    count_w_given_tag = len(w_given_tag_list)\n",
        " \n",
        "     \n",
        "    return (count_w_given_tag, count_tag)"
      ],
      "metadata": {
        "id": "Uqq31DEhJa1T"
      },
      "execution_count": null,
      "outputs": []
    },
    {
      "cell_type": "code",
      "source": [
        "# compute  Transition Probability\n",
        "def t2_given_t1(t2, t1, train_bag = train_tagged_words):\n",
        "    tags = [pair[1] for pair in train_bag]\n",
        "    count_t1 = len([t for t in tags if t==t1])\n",
        "    count_t2_t1 = 0\n",
        "    for index in range(len(tags)-1):\n",
        "        if tags[index]==t1 and tags[index+1] == t2:\n",
        "            count_t2_t1 += 1\n",
        "    return (count_t2_t1, count_t1)"
      ],
      "metadata": {
        "id": "JY22g8cmJc8z"
      },
      "execution_count": null,
      "outputs": []
    },
    {
      "cell_type": "code",
      "source": [
        "# creating t x t transition matrix of tags, t= no of tags\n",
        "# Matrix(i, j) represents P(jth tag after the ith tag)\n",
        " \n",
        "tags_matrix = np.zeros((len(tags), len(tags)), dtype='float32')\n",
        "for i, t1 in enumerate(list(tags)):\n",
        "    for j, t2 in enumerate(list(tags)): \n",
        "        tags_matrix[i, j] = t2_given_t1(t2, t1)[0]/t2_given_t1(t2, t1)[1]\n",
        " \n",
        "print(tags_matrix)"
      ],
      "metadata": {
        "colab": {
          "base_uri": "https://localhost:8080/"
        },
        "id": "YkplA48qJg27",
        "outputId": "771dbb80-d396-4fd2-c985-ead17a92ad50"
      },
      "execution_count": null,
      "outputs": [
        {
          "output_type": "stream",
          "name": "stdout",
          "text": [
            "[[2.62344331e-01 1.49133503e-01 4.39345129e-02 1.76826611e-01\n",
            "  1.68945398e-02 4.65906132e-03 1.31063312e-02 1.25838192e-02\n",
            "  2.88252197e-02 2.40094051e-01 9.14395228e-03 4.24540639e-02]\n",
            " [1.10589318e-01 1.67955801e-01 3.06629837e-02 9.23572779e-02\n",
            "  8.38858187e-02 3.55432779e-02 1.33609578e-01 6.63904250e-02\n",
            "  2.15930015e-01 3.48066315e-02 2.28360966e-02 5.43278083e-03]\n",
            " [2.50489235e-01 4.01174158e-01 1.17416831e-03 1.95694715e-02\n",
            "  9.39334650e-03 1.76125243e-02 1.01369865e-01 8.29745606e-02\n",
            "  1.21330721e-02 4.50097844e-02 5.67514673e-02 2.34833662e-03]\n",
            " [3.23588967e-01 8.47886596e-03 1.26550242e-03 1.69577319e-02\n",
            "  1.45532778e-02 6.96026310e-02 3.20931405e-01 1.07061505e-01\n",
            "  3.45482156e-02 3.87243740e-02 6.32751212e-02 1.01240189e-03]\n",
            " [3.21955010e-02 3.39022487e-01 1.47401085e-02 1.19472459e-01\n",
            "  8.14584941e-02 1.20248254e-02 7.13731572e-02 1.30721495e-01\n",
            "  2.28859577e-02 1.39255241e-01 2.98681147e-02 6.98215654e-03]\n",
            " [2.12756261e-01 4.84738052e-01 1.41230067e-02 2.23234631e-02\n",
            "  3.69020514e-02 6.83371304e-03 9.56719834e-03 7.06150308e-02\n",
            "  8.83826911e-02 4.19134386e-02 6.83371304e-03 5.01138950e-03]\n",
            " [6.35906279e-01 4.02472317e-02 2.87480245e-04 9.91806854e-03\n",
            "  1.20741697e-02 3.30602261e-03 6.03708485e-03 2.06410810e-01\n",
            "  4.51343954e-02 1.73925534e-02 2.28546783e-02 4.31220367e-04]\n",
            " [6.96893215e-01 1.14563107e-02 1.14563107e-02 8.05825219e-02\n",
            "  5.24271838e-03 1.94174761e-04 5.24271838e-03 6.33009672e-02\n",
            "  2.09708735e-02 6.60194159e-02 2.17475723e-02 1.68932043e-02]\n",
            " [6.16951771e-02 2.06419379e-01 1.85085520e-01 1.42225638e-01\n",
            "  2.57543717e-02 5.41995019e-02 5.68902567e-02 1.76821072e-02\n",
            "  7.57255405e-02 1.60868734e-01 3.07514891e-03 1.03786280e-02]\n",
            " [2.18538776e-01 8.96899477e-02 2.78940029e-03 9.29084867e-02\n",
            "  5.25694676e-02 6.87694475e-02 1.72191828e-01 4.61323895e-02\n",
            "  2.56410260e-02 9.23720598e-02 7.82104954e-02 6.00793920e-02]\n",
            " [3.51660132e-01 2.07068902e-02 2.60621198e-02 3.74866128e-02\n",
            "  3.57015361e-03 1.42806140e-03 3.57015361e-03 3.53445187e-02\n",
            "  2.02427700e-01 1.19243130e-01 1.84219927e-01 1.42806144e-02]\n",
            " [3.49066973e-01 1.50384188e-01 4.39077942e-03 5.59824370e-02\n",
            "  5.70801310e-02 6.03732169e-02 1.23490669e-01 1.13611415e-01\n",
            "  9.33040585e-03 3.51262353e-02 4.06147093e-02 5.48847427e-04]]\n"
          ]
        }
      ]
    },
    {
      "cell_type": "code",
      "source": [
        "# convert the matrix to a df for better readability\n",
        "#the table is same as the transition table shown in section 3 of article\n",
        "tags_df = pd.DataFrame(tags_matrix, columns = list(tags), index=list(tags))\n",
        "display(tags_df)"
      ],
      "metadata": {
        "colab": {
          "base_uri": "https://localhost:8080/",
          "height": 426
        },
        "id": "at7CbjxnJod8",
        "outputId": "a8400074-108b-4eb2-aefc-5e39a54a36ac"
      },
      "execution_count": null,
      "outputs": [
        {
          "output_type": "display_data",
          "data": {
            "text/plain": [
              "          NOUN      VERB       PRT       ADP       ADV      PRON       DET  \\\n",
              "NOUN  0.262344  0.149134  0.043935  0.176827  0.016895  0.004659  0.013106   \n",
              "VERB  0.110589  0.167956  0.030663  0.092357  0.083886  0.035543  0.133610   \n",
              "PRT   0.250489  0.401174  0.001174  0.019569  0.009393  0.017613  0.101370   \n",
              "ADP   0.323589  0.008479  0.001266  0.016958  0.014553  0.069603  0.320931   \n",
              "ADV   0.032196  0.339022  0.014740  0.119472  0.081458  0.012025  0.071373   \n",
              "PRON  0.212756  0.484738  0.014123  0.022323  0.036902  0.006834  0.009567   \n",
              "DET   0.635906  0.040247  0.000287  0.009918  0.012074  0.003306  0.006037   \n",
              "ADJ   0.696893  0.011456  0.011456  0.080583  0.005243  0.000194  0.005243   \n",
              "X     0.061695  0.206419  0.185086  0.142226  0.025754  0.054200  0.056890   \n",
              ".     0.218539  0.089690  0.002789  0.092908  0.052569  0.068769  0.172192   \n",
              "NUM   0.351660  0.020707  0.026062  0.037487  0.003570  0.001428  0.003570   \n",
              "CONJ  0.349067  0.150384  0.004391  0.055982  0.057080  0.060373  0.123491   \n",
              "\n",
              "           ADJ         X         .       NUM      CONJ  \n",
              "NOUN  0.012584  0.028825  0.240094  0.009144  0.042454  \n",
              "VERB  0.066390  0.215930  0.034807  0.022836  0.005433  \n",
              "PRT   0.082975  0.012133  0.045010  0.056751  0.002348  \n",
              "ADP   0.107062  0.034548  0.038724  0.063275  0.001012  \n",
              "ADV   0.130721  0.022886  0.139255  0.029868  0.006982  \n",
              "PRON  0.070615  0.088383  0.041913  0.006834  0.005011  \n",
              "DET   0.206411  0.045134  0.017393  0.022855  0.000431  \n",
              "ADJ   0.063301  0.020971  0.066019  0.021748  0.016893  \n",
              "X     0.017682  0.075726  0.160869  0.003075  0.010379  \n",
              ".     0.046132  0.025641  0.092372  0.078210  0.060079  \n",
              "NUM   0.035345  0.202428  0.119243  0.184220  0.014281  \n",
              "CONJ  0.113611  0.009330  0.035126  0.040615  0.000549  "
            ],
            "text/html": [
              "\n",
              "  <div id=\"df-3f383234-ba9b-4898-a14c-f49eb7b705b6\">\n",
              "    <div class=\"colab-df-container\">\n",
              "      <div>\n",
              "<style scoped>\n",
              "    .dataframe tbody tr th:only-of-type {\n",
              "        vertical-align: middle;\n",
              "    }\n",
              "\n",
              "    .dataframe tbody tr th {\n",
              "        vertical-align: top;\n",
              "    }\n",
              "\n",
              "    .dataframe thead th {\n",
              "        text-align: right;\n",
              "    }\n",
              "</style>\n",
              "<table border=\"1\" class=\"dataframe\">\n",
              "  <thead>\n",
              "    <tr style=\"text-align: right;\">\n",
              "      <th></th>\n",
              "      <th>NOUN</th>\n",
              "      <th>VERB</th>\n",
              "      <th>PRT</th>\n",
              "      <th>ADP</th>\n",
              "      <th>ADV</th>\n",
              "      <th>PRON</th>\n",
              "      <th>DET</th>\n",
              "      <th>ADJ</th>\n",
              "      <th>X</th>\n",
              "      <th>.</th>\n",
              "      <th>NUM</th>\n",
              "      <th>CONJ</th>\n",
              "    </tr>\n",
              "  </thead>\n",
              "  <tbody>\n",
              "    <tr>\n",
              "      <th>NOUN</th>\n",
              "      <td>0.262344</td>\n",
              "      <td>0.149134</td>\n",
              "      <td>0.043935</td>\n",
              "      <td>0.176827</td>\n",
              "      <td>0.016895</td>\n",
              "      <td>0.004659</td>\n",
              "      <td>0.013106</td>\n",
              "      <td>0.012584</td>\n",
              "      <td>0.028825</td>\n",
              "      <td>0.240094</td>\n",
              "      <td>0.009144</td>\n",
              "      <td>0.042454</td>\n",
              "    </tr>\n",
              "    <tr>\n",
              "      <th>VERB</th>\n",
              "      <td>0.110589</td>\n",
              "      <td>0.167956</td>\n",
              "      <td>0.030663</td>\n",
              "      <td>0.092357</td>\n",
              "      <td>0.083886</td>\n",
              "      <td>0.035543</td>\n",
              "      <td>0.133610</td>\n",
              "      <td>0.066390</td>\n",
              "      <td>0.215930</td>\n",
              "      <td>0.034807</td>\n",
              "      <td>0.022836</td>\n",
              "      <td>0.005433</td>\n",
              "    </tr>\n",
              "    <tr>\n",
              "      <th>PRT</th>\n",
              "      <td>0.250489</td>\n",
              "      <td>0.401174</td>\n",
              "      <td>0.001174</td>\n",
              "      <td>0.019569</td>\n",
              "      <td>0.009393</td>\n",
              "      <td>0.017613</td>\n",
              "      <td>0.101370</td>\n",
              "      <td>0.082975</td>\n",
              "      <td>0.012133</td>\n",
              "      <td>0.045010</td>\n",
              "      <td>0.056751</td>\n",
              "      <td>0.002348</td>\n",
              "    </tr>\n",
              "    <tr>\n",
              "      <th>ADP</th>\n",
              "      <td>0.323589</td>\n",
              "      <td>0.008479</td>\n",
              "      <td>0.001266</td>\n",
              "      <td>0.016958</td>\n",
              "      <td>0.014553</td>\n",
              "      <td>0.069603</td>\n",
              "      <td>0.320931</td>\n",
              "      <td>0.107062</td>\n",
              "      <td>0.034548</td>\n",
              "      <td>0.038724</td>\n",
              "      <td>0.063275</td>\n",
              "      <td>0.001012</td>\n",
              "    </tr>\n",
              "    <tr>\n",
              "      <th>ADV</th>\n",
              "      <td>0.032196</td>\n",
              "      <td>0.339022</td>\n",
              "      <td>0.014740</td>\n",
              "      <td>0.119472</td>\n",
              "      <td>0.081458</td>\n",
              "      <td>0.012025</td>\n",
              "      <td>0.071373</td>\n",
              "      <td>0.130721</td>\n",
              "      <td>0.022886</td>\n",
              "      <td>0.139255</td>\n",
              "      <td>0.029868</td>\n",
              "      <td>0.006982</td>\n",
              "    </tr>\n",
              "    <tr>\n",
              "      <th>PRON</th>\n",
              "      <td>0.212756</td>\n",
              "      <td>0.484738</td>\n",
              "      <td>0.014123</td>\n",
              "      <td>0.022323</td>\n",
              "      <td>0.036902</td>\n",
              "      <td>0.006834</td>\n",
              "      <td>0.009567</td>\n",
              "      <td>0.070615</td>\n",
              "      <td>0.088383</td>\n",
              "      <td>0.041913</td>\n",
              "      <td>0.006834</td>\n",
              "      <td>0.005011</td>\n",
              "    </tr>\n",
              "    <tr>\n",
              "      <th>DET</th>\n",
              "      <td>0.635906</td>\n",
              "      <td>0.040247</td>\n",
              "      <td>0.000287</td>\n",
              "      <td>0.009918</td>\n",
              "      <td>0.012074</td>\n",
              "      <td>0.003306</td>\n",
              "      <td>0.006037</td>\n",
              "      <td>0.206411</td>\n",
              "      <td>0.045134</td>\n",
              "      <td>0.017393</td>\n",
              "      <td>0.022855</td>\n",
              "      <td>0.000431</td>\n",
              "    </tr>\n",
              "    <tr>\n",
              "      <th>ADJ</th>\n",
              "      <td>0.696893</td>\n",
              "      <td>0.011456</td>\n",
              "      <td>0.011456</td>\n",
              "      <td>0.080583</td>\n",
              "      <td>0.005243</td>\n",
              "      <td>0.000194</td>\n",
              "      <td>0.005243</td>\n",
              "      <td>0.063301</td>\n",
              "      <td>0.020971</td>\n",
              "      <td>0.066019</td>\n",
              "      <td>0.021748</td>\n",
              "      <td>0.016893</td>\n",
              "    </tr>\n",
              "    <tr>\n",
              "      <th>X</th>\n",
              "      <td>0.061695</td>\n",
              "      <td>0.206419</td>\n",
              "      <td>0.185086</td>\n",
              "      <td>0.142226</td>\n",
              "      <td>0.025754</td>\n",
              "      <td>0.054200</td>\n",
              "      <td>0.056890</td>\n",
              "      <td>0.017682</td>\n",
              "      <td>0.075726</td>\n",
              "      <td>0.160869</td>\n",
              "      <td>0.003075</td>\n",
              "      <td>0.010379</td>\n",
              "    </tr>\n",
              "    <tr>\n",
              "      <th>.</th>\n",
              "      <td>0.218539</td>\n",
              "      <td>0.089690</td>\n",
              "      <td>0.002789</td>\n",
              "      <td>0.092908</td>\n",
              "      <td>0.052569</td>\n",
              "      <td>0.068769</td>\n",
              "      <td>0.172192</td>\n",
              "      <td>0.046132</td>\n",
              "      <td>0.025641</td>\n",
              "      <td>0.092372</td>\n",
              "      <td>0.078210</td>\n",
              "      <td>0.060079</td>\n",
              "    </tr>\n",
              "    <tr>\n",
              "      <th>NUM</th>\n",
              "      <td>0.351660</td>\n",
              "      <td>0.020707</td>\n",
              "      <td>0.026062</td>\n",
              "      <td>0.037487</td>\n",
              "      <td>0.003570</td>\n",
              "      <td>0.001428</td>\n",
              "      <td>0.003570</td>\n",
              "      <td>0.035345</td>\n",
              "      <td>0.202428</td>\n",
              "      <td>0.119243</td>\n",
              "      <td>0.184220</td>\n",
              "      <td>0.014281</td>\n",
              "    </tr>\n",
              "    <tr>\n",
              "      <th>CONJ</th>\n",
              "      <td>0.349067</td>\n",
              "      <td>0.150384</td>\n",
              "      <td>0.004391</td>\n",
              "      <td>0.055982</td>\n",
              "      <td>0.057080</td>\n",
              "      <td>0.060373</td>\n",
              "      <td>0.123491</td>\n",
              "      <td>0.113611</td>\n",
              "      <td>0.009330</td>\n",
              "      <td>0.035126</td>\n",
              "      <td>0.040615</td>\n",
              "      <td>0.000549</td>\n",
              "    </tr>\n",
              "  </tbody>\n",
              "</table>\n",
              "</div>\n",
              "      <button class=\"colab-df-convert\" onclick=\"convertToInteractive('df-3f383234-ba9b-4898-a14c-f49eb7b705b6')\"\n",
              "              title=\"Convert this dataframe to an interactive table.\"\n",
              "              style=\"display:none;\">\n",
              "        \n",
              "  <svg xmlns=\"http://www.w3.org/2000/svg\" height=\"24px\"viewBox=\"0 0 24 24\"\n",
              "       width=\"24px\">\n",
              "    <path d=\"M0 0h24v24H0V0z\" fill=\"none\"/>\n",
              "    <path d=\"M18.56 5.44l.94 2.06.94-2.06 2.06-.94-2.06-.94-.94-2.06-.94 2.06-2.06.94zm-11 1L8.5 8.5l.94-2.06 2.06-.94-2.06-.94L8.5 2.5l-.94 2.06-2.06.94zm10 10l.94 2.06.94-2.06 2.06-.94-2.06-.94-.94-2.06-.94 2.06-2.06.94z\"/><path d=\"M17.41 7.96l-1.37-1.37c-.4-.4-.92-.59-1.43-.59-.52 0-1.04.2-1.43.59L10.3 9.45l-7.72 7.72c-.78.78-.78 2.05 0 2.83L4 21.41c.39.39.9.59 1.41.59.51 0 1.02-.2 1.41-.59l7.78-7.78 2.81-2.81c.8-.78.8-2.07 0-2.86zM5.41 20L4 18.59l7.72-7.72 1.47 1.35L5.41 20z\"/>\n",
              "  </svg>\n",
              "      </button>\n",
              "      \n",
              "  <style>\n",
              "    .colab-df-container {\n",
              "      display:flex;\n",
              "      flex-wrap:wrap;\n",
              "      gap: 12px;\n",
              "    }\n",
              "\n",
              "    .colab-df-convert {\n",
              "      background-color: #E8F0FE;\n",
              "      border: none;\n",
              "      border-radius: 50%;\n",
              "      cursor: pointer;\n",
              "      display: none;\n",
              "      fill: #1967D2;\n",
              "      height: 32px;\n",
              "      padding: 0 0 0 0;\n",
              "      width: 32px;\n",
              "    }\n",
              "\n",
              "    .colab-df-convert:hover {\n",
              "      background-color: #E2EBFA;\n",
              "      box-shadow: 0px 1px 2px rgba(60, 64, 67, 0.3), 0px 1px 3px 1px rgba(60, 64, 67, 0.15);\n",
              "      fill: #174EA6;\n",
              "    }\n",
              "\n",
              "    [theme=dark] .colab-df-convert {\n",
              "      background-color: #3B4455;\n",
              "      fill: #D2E3FC;\n",
              "    }\n",
              "\n",
              "    [theme=dark] .colab-df-convert:hover {\n",
              "      background-color: #434B5C;\n",
              "      box-shadow: 0px 1px 3px 1px rgba(0, 0, 0, 0.15);\n",
              "      filter: drop-shadow(0px 1px 2px rgba(0, 0, 0, 0.3));\n",
              "      fill: #FFFFFF;\n",
              "    }\n",
              "  </style>\n",
              "\n",
              "      <script>\n",
              "        const buttonEl =\n",
              "          document.querySelector('#df-3f383234-ba9b-4898-a14c-f49eb7b705b6 button.colab-df-convert');\n",
              "        buttonEl.style.display =\n",
              "          google.colab.kernel.accessAllowed ? 'block' : 'none';\n",
              "\n",
              "        async function convertToInteractive(key) {\n",
              "          const element = document.querySelector('#df-3f383234-ba9b-4898-a14c-f49eb7b705b6');\n",
              "          const dataTable =\n",
              "            await google.colab.kernel.invokeFunction('convertToInteractive',\n",
              "                                                     [key], {});\n",
              "          if (!dataTable) return;\n",
              "\n",
              "          const docLinkHtml = 'Like what you see? Visit the ' +\n",
              "            '<a target=\"_blank\" href=https://colab.research.google.com/notebooks/data_table.ipynb>data table notebook</a>'\n",
              "            + ' to learn more about interactive tables.';\n",
              "          element.innerHTML = '';\n",
              "          dataTable['output_type'] = 'display_data';\n",
              "          await google.colab.output.renderOutput(dataTable, element);\n",
              "          const docLink = document.createElement('div');\n",
              "          docLink.innerHTML = docLinkHtml;\n",
              "          element.appendChild(docLink);\n",
              "        }\n",
              "      </script>\n",
              "    </div>\n",
              "  </div>\n",
              "  "
            ]
          },
          "metadata": {}
        }
      ]
    }
  ]
}